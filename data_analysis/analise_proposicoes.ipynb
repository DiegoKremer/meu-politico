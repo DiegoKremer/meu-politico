{
 "cells": [
  {
   "cell_type": "markdown",
   "metadata": {},
   "source": [
    "Importa as bibliotecas necessárias para o pré-processamento do Dataset"
   ]
  },
  {
   "cell_type": "code",
   "execution_count": 10,
   "metadata": {},
   "outputs": [],
   "source": [
    "import numpy as np\n",
    "import pandas as pd\n",
    "import matplotlib.pyplot as plt\n",
    "import seaborn as sns"
   ]
  },
  {
   "cell_type": "code",
   "execution_count": 11,
   "metadata": {},
   "outputs": [],
   "source": [
    "%matplotlib inline"
   ]
  },
  {
   "cell_type": "markdown",
   "metadata": {},
   "source": [
    "Carrega o Dataset bruto"
   ]
  },
  {
   "cell_type": "code",
   "execution_count": 12,
   "metadata": {},
   "outputs": [],
   "source": [
    "df_prop = pd.read_excel('Dataset.xlsx')"
   ]
  },
  {
   "cell_type": "markdown",
   "metadata": {},
   "source": [
    "Visualiza informações básicas do conteúdo do Dataset"
   ]
  },
  {
   "cell_type": "code",
   "execution_count": 13,
   "metadata": {},
   "outputs": [
    {
     "name": "stdout",
     "output_type": "stream",
     "text": [
      "<class 'pandas.core.frame.DataFrame'>\n",
      "RangeIndex: 46319 entries, 0 to 46318\n",
      "Data columns (total 3 columns):\n",
      "ANO_PROPOSICAO                  46319 non-null int64\n",
      "AREAS_TEMATICAS_APRESENTACAO    46319 non-null object\n",
      "TEXTO                           46319 non-null object\n",
      "dtypes: int64(1), object(2)\n",
      "memory usage: 1.1+ MB\n"
     ]
    }
   ],
   "source": [
    "df_prop.info()"
   ]
  },
  {
   "cell_type": "code",
   "execution_count": 14,
   "metadata": {},
   "outputs": [
    {
     "data": {
      "text/html": [
       "<div>\n",
       "<style scoped>\n",
       "    .dataframe tbody tr th:only-of-type {\n",
       "        vertical-align: middle;\n",
       "    }\n",
       "\n",
       "    .dataframe tbody tr th {\n",
       "        vertical-align: top;\n",
       "    }\n",
       "\n",
       "    .dataframe thead th {\n",
       "        text-align: right;\n",
       "    }\n",
       "</style>\n",
       "<table border=\"1\" class=\"dataframe\">\n",
       "  <thead>\n",
       "    <tr style=\"text-align: right;\">\n",
       "      <th></th>\n",
       "      <th>ANO_PROPOSICAO</th>\n",
       "      <th>AREAS_TEMATICAS_APRESENTACAO</th>\n",
       "      <th>TEXTO</th>\n",
       "    </tr>\n",
       "  </thead>\n",
       "  <tbody>\n",
       "    <tr>\n",
       "      <th>0</th>\n",
       "      <td>2003</td>\n",
       "      <td>INDUSTRIA, COMERCIO E DEFESA DO CONSUMIDOR (UT...</td>\n",
       "      <td>Dispõe sobre o prazo para devolução de encomen...</td>\n",
       "    </tr>\n",
       "    <tr>\n",
       "      <th>1</th>\n",
       "      <td>2003</td>\n",
       "      <td>ARTE E CULTURA</td>\n",
       "      <td>Confere ao município de Passo Fundo o título d...</td>\n",
       "    </tr>\n",
       "    <tr>\n",
       "      <th>2</th>\n",
       "      <td>2003</td>\n",
       "      <td>ARTE E CULTURA</td>\n",
       "      <td>Inscreve o nome de Heitor Villa-Lobos no Livro...</td>\n",
       "    </tr>\n",
       "    <tr>\n",
       "      <th>3</th>\n",
       "      <td>2003</td>\n",
       "      <td>TRIBUTACAO</td>\n",
       "      <td>Dispõe sobre a isenção do Imposto sobre Produt...</td>\n",
       "    </tr>\n",
       "    <tr>\n",
       "      <th>4</th>\n",
       "      <td>2004</td>\n",
       "      <td>SEGURANCA PUBLICA</td>\n",
       "      <td>\"Autoriza o uso, pelas Polícias Civil e Milita...</td>\n",
       "    </tr>\n",
       "    <tr>\n",
       "      <th>5</th>\n",
       "      <td>2003</td>\n",
       "      <td>ECONOMIA, ADMINISTRACAO FINANCEIRA E ORCAMENTA...</td>\n",
       "      <td>Acrescenta dispositivo à Lei Complementar nº 1...</td>\n",
       "    </tr>\n",
       "    <tr>\n",
       "      <th>6</th>\n",
       "      <td>2003</td>\n",
       "      <td>EDUCACAO</td>\n",
       "      <td>Dá nova redação ao art. 208 da Constituição Fe...</td>\n",
       "    </tr>\n",
       "  </tbody>\n",
       "</table>\n",
       "</div>"
      ],
      "text/plain": [
       "   ANO_PROPOSICAO                       AREAS_TEMATICAS_APRESENTACAO  \\\n",
       "0            2003  INDUSTRIA, COMERCIO E DEFESA DO CONSUMIDOR (UT...   \n",
       "1            2003                                     ARTE E CULTURA   \n",
       "2            2003                                     ARTE E CULTURA   \n",
       "3            2003                                         TRIBUTACAO   \n",
       "4            2004                                  SEGURANCA PUBLICA   \n",
       "5            2003  ECONOMIA, ADMINISTRACAO FINANCEIRA E ORCAMENTA...   \n",
       "6            2003                                           EDUCACAO   \n",
       "\n",
       "                                               TEXTO  \n",
       "0  Dispõe sobre o prazo para devolução de encomen...  \n",
       "1  Confere ao município de Passo Fundo o título d...  \n",
       "2  Inscreve o nome de Heitor Villa-Lobos no Livro...  \n",
       "3  Dispõe sobre a isenção do Imposto sobre Produt...  \n",
       "4  \"Autoriza o uso, pelas Polícias Civil e Milita...  \n",
       "5  Acrescenta dispositivo à Lei Complementar nº 1...  \n",
       "6  Dá nova redação ao art. 208 da Constituição Fe...  "
      ]
     },
     "execution_count": 14,
     "metadata": {},
     "output_type": "execute_result"
    }
   ],
   "source": [
    "df_prop.head(7)"
   ]
  },
  {
   "cell_type": "markdown",
   "metadata": {},
   "source": [
    "Simplifica nome de colunas do Dataset"
   ]
  },
  {
   "cell_type": "code",
   "execution_count": 15,
   "metadata": {},
   "outputs": [
    {
     "data": {
      "text/html": [
       "<div>\n",
       "<style scoped>\n",
       "    .dataframe tbody tr th:only-of-type {\n",
       "        vertical-align: middle;\n",
       "    }\n",
       "\n",
       "    .dataframe tbody tr th {\n",
       "        vertical-align: top;\n",
       "    }\n",
       "\n",
       "    .dataframe thead th {\n",
       "        text-align: right;\n",
       "    }\n",
       "</style>\n",
       "<table border=\"1\" class=\"dataframe\">\n",
       "  <thead>\n",
       "    <tr style=\"text-align: right;\">\n",
       "      <th></th>\n",
       "      <th>ANO</th>\n",
       "      <th>TEMAS</th>\n",
       "      <th>TEXTO</th>\n",
       "    </tr>\n",
       "  </thead>\n",
       "  <tbody>\n",
       "    <tr>\n",
       "      <th>0</th>\n",
       "      <td>2003</td>\n",
       "      <td>INDUSTRIA, COMERCIO E DEFESA DO CONSUMIDOR (UT...</td>\n",
       "      <td>Dispõe sobre o prazo para devolução de encomen...</td>\n",
       "    </tr>\n",
       "    <tr>\n",
       "      <th>1</th>\n",
       "      <td>2003</td>\n",
       "      <td>ARTE E CULTURA</td>\n",
       "      <td>Confere ao município de Passo Fundo o título d...</td>\n",
       "    </tr>\n",
       "    <tr>\n",
       "      <th>2</th>\n",
       "      <td>2003</td>\n",
       "      <td>ARTE E CULTURA</td>\n",
       "      <td>Inscreve o nome de Heitor Villa-Lobos no Livro...</td>\n",
       "    </tr>\n",
       "  </tbody>\n",
       "</table>\n",
       "</div>"
      ],
      "text/plain": [
       "    ANO                                              TEMAS  \\\n",
       "0  2003  INDUSTRIA, COMERCIO E DEFESA DO CONSUMIDOR (UT...   \n",
       "1  2003                                     ARTE E CULTURA   \n",
       "2  2003                                     ARTE E CULTURA   \n",
       "\n",
       "                                               TEXTO  \n",
       "0  Dispõe sobre o prazo para devolução de encomen...  \n",
       "1  Confere ao município de Passo Fundo o título d...  \n",
       "2  Inscreve o nome de Heitor Villa-Lobos no Livro...  "
      ]
     },
     "execution_count": 15,
     "metadata": {},
     "output_type": "execute_result"
    }
   ],
   "source": [
    "df_prop.rename(columns={'ANO_PROPOSICAO': 'ANO', 'AREAS_TEMATICAS_APRESENTACAO': 'TEMAS'}, inplace=True)\n",
    "df_prop.head(3)"
   ]
  },
  {
   "cell_type": "markdown",
   "metadata": {},
   "source": [
    "Remove colunas que não serão utilizadas"
   ]
  },
  {
   "cell_type": "code",
   "execution_count": 16,
   "metadata": {},
   "outputs": [],
   "source": [
    "df_prop.drop('ANO', axis=1, inplace=True)"
   ]
  },
  {
   "cell_type": "markdown",
   "metadata": {},
   "source": [
    "Identifica a quantidade total de temas presentes no Dataset"
   ]
  },
  {
   "cell_type": "code",
   "execution_count": 17,
   "metadata": {},
   "outputs": [
    {
     "data": {
      "text/plain": [
       "585"
      ]
     },
     "execution_count": 17,
     "metadata": {},
     "output_type": "execute_result"
    }
   ],
   "source": [
    "df_prop['TEMAS'].nunique()"
   ]
  },
  {
   "cell_type": "markdown",
   "metadata": {},
   "source": [
    "Conta a quantidade de entradas para cada tema, remove temas que aparecem menos que 100 vezes no Dataset e reorganiza o index numérico."
   ]
  },
  {
   "cell_type": "code",
   "execution_count": 18,
   "metadata": {},
   "outputs": [
    {
     "name": "stdout",
     "output_type": "stream",
     "text": [
      "<class 'pandas.core.frame.DataFrame'>\n",
      "RangeIndex: 38971 entries, 0 to 38970\n",
      "Data columns (total 2 columns):\n",
      "TEMAS    38971 non-null object\n",
      "TEXTO    38971 non-null object\n",
      "dtypes: object(2)\n",
      "memory usage: 609.0+ KB\n"
     ]
    }
   ],
   "source": [
    "counts = df_prop['TEMAS'].value_counts()\n",
    "df_prop = df_prop[df_prop['TEMAS'].isin(counts[counts > 100].index)]\n",
    "df_prop.reset_index(drop = True, inplace = True)\n",
    "df_prop.info()"
   ]
  },
  {
   "cell_type": "markdown",
   "metadata": {},
   "source": [
    "Verifica a quantidade de temas existentes no Dataset"
   ]
  },
  {
   "cell_type": "code",
   "execution_count": 19,
   "metadata": {},
   "outputs": [
    {
     "data": {
      "text/plain": [
       "45"
      ]
     },
     "execution_count": 19,
     "metadata": {},
     "output_type": "execute_result"
    }
   ],
   "source": [
    "df_prop['TEMAS'].nunique()"
   ]
  },
  {
   "cell_type": "markdown",
   "metadata": {},
   "source": [
    "Elimina o texto \"(UTILIZADO ATE A LEGISLATURA 53)\" existente em diversos nomes de temas para melhorar visualização e operação com os temas."
   ]
  },
  {
   "cell_type": "code",
   "execution_count": 20,
   "metadata": {},
   "outputs": [],
   "source": [
    "for index, tema in df_prop.iterrows():\n",
    "    legis_53 = '(UTILIZADO ATE A LEGISLATURA 53)'\n",
    "    if legis_53 in tema['TEMAS']:\n",
    "        tema_processado = tema['TEMAS'].replace(legis_53, '')\n",
    "        df_prop.at[df_prop.index[index], 'TEMAS'] = tema_processado"
   ]
  },
  {
   "cell_type": "code",
   "execution_count": 21,
   "metadata": {},
   "outputs": [
    {
     "data": {
      "text/html": [
       "<div>\n",
       "<style scoped>\n",
       "    .dataframe tbody tr th:only-of-type {\n",
       "        vertical-align: middle;\n",
       "    }\n",
       "\n",
       "    .dataframe tbody tr th {\n",
       "        vertical-align: top;\n",
       "    }\n",
       "\n",
       "    .dataframe thead th {\n",
       "        text-align: right;\n",
       "    }\n",
       "</style>\n",
       "<table border=\"1\" class=\"dataframe\">\n",
       "  <thead>\n",
       "    <tr style=\"text-align: right;\">\n",
       "      <th></th>\n",
       "      <th>TEMAS</th>\n",
       "      <th>TEXTO</th>\n",
       "    </tr>\n",
       "  </thead>\n",
       "  <tbody>\n",
       "    <tr>\n",
       "      <th>0</th>\n",
       "      <td>INDUSTRIA, COMERCIO E DEFESA DO CONSUMIDOR</td>\n",
       "      <td>Dispõe sobre o prazo para devolução de encomen...</td>\n",
       "    </tr>\n",
       "    <tr>\n",
       "      <th>1</th>\n",
       "      <td>ARTE E CULTURA</td>\n",
       "      <td>Confere ao município de Passo Fundo o título d...</td>\n",
       "    </tr>\n",
       "    <tr>\n",
       "      <th>2</th>\n",
       "      <td>ARTE E CULTURA</td>\n",
       "      <td>Inscreve o nome de Heitor Villa-Lobos no Livro...</td>\n",
       "    </tr>\n",
       "    <tr>\n",
       "      <th>3</th>\n",
       "      <td>TRIBUTACAO</td>\n",
       "      <td>Dispõe sobre a isenção do Imposto sobre Produt...</td>\n",
       "    </tr>\n",
       "    <tr>\n",
       "      <th>4</th>\n",
       "      <td>SEGURANCA PUBLICA</td>\n",
       "      <td>\"Autoriza o uso, pelas Polícias Civil e Milita...</td>\n",
       "    </tr>\n",
       "  </tbody>\n",
       "</table>\n",
       "</div>"
      ],
      "text/plain": [
       "                                         TEMAS  \\\n",
       "0  INDUSTRIA, COMERCIO E DEFESA DO CONSUMIDOR    \n",
       "1                               ARTE E CULTURA   \n",
       "2                               ARTE E CULTURA   \n",
       "3                                   TRIBUTACAO   \n",
       "4                            SEGURANCA PUBLICA   \n",
       "\n",
       "                                               TEXTO  \n",
       "0  Dispõe sobre o prazo para devolução de encomen...  \n",
       "1  Confere ao município de Passo Fundo o título d...  \n",
       "2  Inscreve o nome de Heitor Villa-Lobos no Livro...  \n",
       "3  Dispõe sobre a isenção do Imposto sobre Produt...  \n",
       "4  \"Autoriza o uso, pelas Polícias Civil e Milita...  "
      ]
     },
     "execution_count": 21,
     "metadata": {},
     "output_type": "execute_result"
    }
   ],
   "source": [
    "df_prop.head(5)"
   ]
  },
  {
   "cell_type": "code",
   "execution_count": 22,
   "metadata": {},
   "outputs": [],
   "source": [
    "df_prop.to_excel('Dataset_processed.xlsx',sheet_name='Dataset')"
   ]
  },
  {
   "cell_type": "markdown",
   "metadata": {},
   "source": [
    "Revalida quantos temas ainda existem no Dataset após a limpeza"
   ]
  },
  {
   "cell_type": "code",
   "execution_count": 23,
   "metadata": {},
   "outputs": [
    {
     "data": {
      "text/plain": [
       "45"
      ]
     },
     "execution_count": 23,
     "metadata": {},
     "output_type": "execute_result"
    }
   ],
   "source": [
    "df_prop['TEMAS'].nunique()"
   ]
  },
  {
   "cell_type": "markdown",
   "metadata": {},
   "source": [
    "Mostra a quantidade de entradas para cada um dos temas restantes após a limpeza"
   ]
  },
  {
   "cell_type": "code",
   "execution_count": 24,
   "metadata": {},
   "outputs": [
    {
     "data": {
      "text/plain": [
       "COMUNICACOES                                                               8466\n",
       "TRABALHO E EMPREGO                                                         2455\n",
       "ADMINISTRACAO PUBLICA                                                      2356\n",
       "EDUCACAO                                                                   2073\n",
       "TRIBUTACAO                                                                 2056\n",
       "DIREITO PENAL E PROCESSUAL PENAL                                           1788\n",
       "SAUDE                                                                      1539\n",
       "DIREITOS HUMANOS, MINORIAS E CIDADANIA                                     1439\n",
       "VIACAO E TRANSPORTES                                                       1359\n",
       "HOMENAGENS E DATAS COMEMORATIVAS                                           1219\n",
       "DIREITO CIVIL E PROCESSUAL CIVIL                                           1218\n",
       "DESENVOLVIMENTO URBANO E TRANSITO                                          1053\n",
       "ORGANIZACAO POLITICO ADMINISTRATIVA DO ESTADO                              1023\n",
       "PREVIDENCIA E ASSISTENCIA SOCIAL                                           1005\n",
       "INDUSTRIA, COMERCIO E DEFESA DO CONSUMIDOR                                  961\n",
       "SEGURANCA PUBLICA                                                           960\n",
       "MEIO AMBIENTE E DESENVOLVIMENTO SUSTENTAVEL                                 798\n",
       "PROCESSO LEGISLATIVO                                                        610\n",
       "ECONOMIA, ADMINISTRACAO FINANCEIRA E ORCAMENTARIA                           559\n",
       "DIREITO E DEFESA DO CONSUMIDOR                                              522\n",
       "RECURSOS HIDRICOS, MINERAIS E POLITICA ENERGETICA                           517\n",
       "ORGANIZACAO POLITICA, PARTIDARIA E ELEITORAL                                495\n",
       "ARTE E CULTURA                                                              465\n",
       "POLITICA FUNDIARIA                                                          352\n",
       "DESENVOLVIMENTO REGIONAL                                                    305\n",
       "RELACOES INTERNACIONAIS                                                     299\n",
       "DESPORTO E LAZER                                                            290\n",
       "FINANCAS PUBLICAS E ORCAMENTO                                               270\n",
       "INDUSTRIA, COMERCIO E ABASTECIMENTO                                         247\n",
       "DIREITO PENAL E PROCESSUAL PENAL,DIREITOS HUMANOS, MINORIAS E CIDADANIA     227\n",
       "AGRICULTURA, PECUARIA E PESCA                                               189\n",
       "DIREITOS HUMANOS, MINORIAS E CIDADANIA,EDUCACAO                             185\n",
       "DIREITOS HUMANOS, MINORIAS E CIDADANIA,SAUDE                                176\n",
       "SISTEMA FINANCEIRO                                                          155\n",
       "DIREITOS HUMANOS, MINORIAS E CIDADANIA,TRIBUTACAO                           149\n",
       "ORGANIZACAO ADMINISTRATIVA DO ESTADO                                        145\n",
       "DIREITOS HUMANOS, MINORIAS E CIDADANIA,TRABALHO E EMPREGO                   139\n",
       "ADMINISTRACAO PUBLICA,DIREITOS HUMANOS, MINORIAS E CIDADANIA                124\n",
       "PREVIDENCIA E ASSISTENCIA SOCIAL,TRABALHO E EMPREGO                         120\n",
       "SAUDE,TRABALHO E EMPREGO                                                    120\n",
       "INDUSTRIA, COMERCIO E DEFESA DO CONSUMIDOR ,TRIBUTACAO                      115\n",
       "DEFESA E SEGURANCA NACIONAL                                                 113\n",
       "INDUSTRIA, COMERCIO E DEFESA DO CONSUMIDOR ,SAUDE                           107\n",
       "EDUCACAO,SAUDE                                                              105\n",
       "ADMINISTRACAO PUBLICA,SEGURANCA PUBLICA                                     103\n",
       "Name: TEMAS, dtype: int64"
      ]
     },
     "execution_count": 24,
     "metadata": {},
     "output_type": "execute_result"
    }
   ],
   "source": [
    "df_prop['TEMAS'].value_counts()"
   ]
  },
  {
   "cell_type": "markdown",
   "metadata": {},
   "source": [
    "Une todas as subcategorias do tema DIREITOS HUMANOS, MINORIAS E CIDADANIA em um único grande grupo"
   ]
  },
  {
   "cell_type": "code",
   "execution_count": 25,
   "metadata": {},
   "outputs": [],
   "source": [
    "for index, tema in df_prop.iterrows():\n",
    "    tema_chave = 'DIREITOS HUMANOS, MINORIAS E CIDADANIA'\n",
    "    if tema_chave in tema['TEMAS']:\n",
    "        df_prop.at[df_prop.index[index], 'TEMAS'] = tema_chave"
   ]
  },
  {
   "cell_type": "markdown",
   "metadata": {},
   "source": [
    "Realiza recontagem de temas após a união dos temas de DIREITOS HUMANOS, MINORIAS E CIDADANIA"
   ]
  },
  {
   "cell_type": "code",
   "execution_count": 26,
   "metadata": {
    "scrolled": true
   },
   "outputs": [
    {
     "data": {
      "text/plain": [
       "39"
      ]
     },
     "execution_count": 26,
     "metadata": {},
     "output_type": "execute_result"
    }
   ],
   "source": [
    "df_prop['TEMAS'].nunique()"
   ]
  },
  {
   "cell_type": "code",
   "execution_count": 27,
   "metadata": {},
   "outputs": [
    {
     "data": {
      "text/plain": [
       "COMUNICACOES                                              8466\n",
       "TRABALHO E EMPREGO                                        2455\n",
       "DIREITOS HUMANOS, MINORIAS E CIDADANIA                    2439\n",
       "ADMINISTRACAO PUBLICA                                     2356\n",
       "EDUCACAO                                                  2073\n",
       "TRIBUTACAO                                                2056\n",
       "DIREITO PENAL E PROCESSUAL PENAL                          1788\n",
       "SAUDE                                                     1539\n",
       "VIACAO E TRANSPORTES                                      1359\n",
       "HOMENAGENS E DATAS COMEMORATIVAS                          1219\n",
       "DIREITO CIVIL E PROCESSUAL CIVIL                          1218\n",
       "DESENVOLVIMENTO URBANO E TRANSITO                         1053\n",
       "ORGANIZACAO POLITICO ADMINISTRATIVA DO ESTADO             1023\n",
       "PREVIDENCIA E ASSISTENCIA SOCIAL                          1005\n",
       "INDUSTRIA, COMERCIO E DEFESA DO CONSUMIDOR                 961\n",
       "SEGURANCA PUBLICA                                          960\n",
       "MEIO AMBIENTE E DESENVOLVIMENTO SUSTENTAVEL                798\n",
       "PROCESSO LEGISLATIVO                                       610\n",
       "ECONOMIA, ADMINISTRACAO FINANCEIRA E ORCAMENTARIA          559\n",
       "DIREITO E DEFESA DO CONSUMIDOR                             522\n",
       "RECURSOS HIDRICOS, MINERAIS E POLITICA ENERGETICA          517\n",
       "ORGANIZACAO POLITICA, PARTIDARIA E ELEITORAL               495\n",
       "ARTE E CULTURA                                             465\n",
       "POLITICA FUNDIARIA                                         352\n",
       "DESENVOLVIMENTO REGIONAL                                   305\n",
       "RELACOES INTERNACIONAIS                                    299\n",
       "DESPORTO E LAZER                                           290\n",
       "FINANCAS PUBLICAS E ORCAMENTO                              270\n",
       "INDUSTRIA, COMERCIO E ABASTECIMENTO                        247\n",
       "AGRICULTURA, PECUARIA E PESCA                              189\n",
       "SISTEMA FINANCEIRO                                         155\n",
       "ORGANIZACAO ADMINISTRATIVA DO ESTADO                       145\n",
       "SAUDE,TRABALHO E EMPREGO                                   120\n",
       "PREVIDENCIA E ASSISTENCIA SOCIAL,TRABALHO E EMPREGO        120\n",
       "INDUSTRIA, COMERCIO E DEFESA DO CONSUMIDOR ,TRIBUTACAO     115\n",
       "DEFESA E SEGURANCA NACIONAL                                113\n",
       "INDUSTRIA, COMERCIO E DEFESA DO CONSUMIDOR ,SAUDE          107\n",
       "EDUCACAO,SAUDE                                             105\n",
       "ADMINISTRACAO PUBLICA,SEGURANCA PUBLICA                    103\n",
       "Name: TEMAS, dtype: int64"
      ]
     },
     "execution_count": 27,
     "metadata": {},
     "output_type": "execute_result"
    }
   ],
   "source": [
    "df_prop['TEMAS'].value_counts()"
   ]
  },
  {
   "cell_type": "code",
   "execution_count": 28,
   "metadata": {},
   "outputs": [],
   "source": [
    "for index, tema in df_prop.iterrows():\n",
    "    tema_chave = 'PREVIDENCIA E ASSISTENCIA SOCIAL'\n",
    "    if tema_chave in tema['TEMAS']:\n",
    "        df_prop.at[df_prop.index[index], 'TEMAS'] = tema_chave"
   ]
  },
  {
   "cell_type": "code",
   "execution_count": 29,
   "metadata": {},
   "outputs": [
    {
     "data": {
      "text/plain": [
       "38"
      ]
     },
     "execution_count": 29,
     "metadata": {},
     "output_type": "execute_result"
    }
   ],
   "source": [
    "df_prop['TEMAS'].nunique()"
   ]
  },
  {
   "cell_type": "code",
   "execution_count": 30,
   "metadata": {},
   "outputs": [
    {
     "data": {
      "text/plain": [
       "COMUNICACOES                                              8466\n",
       "TRABALHO E EMPREGO                                        2455\n",
       "DIREITOS HUMANOS, MINORIAS E CIDADANIA                    2439\n",
       "ADMINISTRACAO PUBLICA                                     2356\n",
       "EDUCACAO                                                  2073\n",
       "TRIBUTACAO                                                2056\n",
       "DIREITO PENAL E PROCESSUAL PENAL                          1788\n",
       "SAUDE                                                     1539\n",
       "VIACAO E TRANSPORTES                                      1359\n",
       "HOMENAGENS E DATAS COMEMORATIVAS                          1219\n",
       "DIREITO CIVIL E PROCESSUAL CIVIL                          1218\n",
       "PREVIDENCIA E ASSISTENCIA SOCIAL                          1125\n",
       "DESENVOLVIMENTO URBANO E TRANSITO                         1053\n",
       "ORGANIZACAO POLITICO ADMINISTRATIVA DO ESTADO             1023\n",
       "INDUSTRIA, COMERCIO E DEFESA DO CONSUMIDOR                 961\n",
       "SEGURANCA PUBLICA                                          960\n",
       "MEIO AMBIENTE E DESENVOLVIMENTO SUSTENTAVEL                798\n",
       "PROCESSO LEGISLATIVO                                       610\n",
       "ECONOMIA, ADMINISTRACAO FINANCEIRA E ORCAMENTARIA          559\n",
       "DIREITO E DEFESA DO CONSUMIDOR                             522\n",
       "RECURSOS HIDRICOS, MINERAIS E POLITICA ENERGETICA          517\n",
       "ORGANIZACAO POLITICA, PARTIDARIA E ELEITORAL               495\n",
       "ARTE E CULTURA                                             465\n",
       "POLITICA FUNDIARIA                                         352\n",
       "DESENVOLVIMENTO REGIONAL                                   305\n",
       "RELACOES INTERNACIONAIS                                    299\n",
       "DESPORTO E LAZER                                           290\n",
       "FINANCAS PUBLICAS E ORCAMENTO                              270\n",
       "INDUSTRIA, COMERCIO E ABASTECIMENTO                        247\n",
       "AGRICULTURA, PECUARIA E PESCA                              189\n",
       "SISTEMA FINANCEIRO                                         155\n",
       "ORGANIZACAO ADMINISTRATIVA DO ESTADO                       145\n",
       "SAUDE,TRABALHO E EMPREGO                                   120\n",
       "INDUSTRIA, COMERCIO E DEFESA DO CONSUMIDOR ,TRIBUTACAO     115\n",
       "DEFESA E SEGURANCA NACIONAL                                113\n",
       "INDUSTRIA, COMERCIO E DEFESA DO CONSUMIDOR ,SAUDE          107\n",
       "EDUCACAO,SAUDE                                             105\n",
       "ADMINISTRACAO PUBLICA,SEGURANCA PUBLICA                    103\n",
       "Name: TEMAS, dtype: int64"
      ]
     },
     "execution_count": 30,
     "metadata": {},
     "output_type": "execute_result"
    }
   ],
   "source": [
    "df_prop['TEMAS'].value_counts()"
   ]
  },
  {
   "cell_type": "code",
   "execution_count": 31,
   "metadata": {},
   "outputs": [],
   "source": [
    "for index, tema in df_prop.iterrows():\n",
    "    tema_chave = 'INDUSTRIA, COMERCIO E DEFESA DO CONSUMIDOR'\n",
    "    if tema_chave in tema['TEMAS']:\n",
    "        df_prop.at[df_prop.index[index], 'TEMAS'] = tema_chave"
   ]
  },
  {
   "cell_type": "code",
   "execution_count": 32,
   "metadata": {},
   "outputs": [
    {
     "data": {
      "text/plain": [
       "36"
      ]
     },
     "execution_count": 32,
     "metadata": {},
     "output_type": "execute_result"
    }
   ],
   "source": [
    "df_prop['TEMAS'].nunique()"
   ]
  },
  {
   "cell_type": "code",
   "execution_count": 33,
   "metadata": {},
   "outputs": [
    {
     "data": {
      "text/plain": [
       "COMUNICACOES                                          8466\n",
       "TRABALHO E EMPREGO                                    2455\n",
       "DIREITOS HUMANOS, MINORIAS E CIDADANIA                2439\n",
       "ADMINISTRACAO PUBLICA                                 2356\n",
       "EDUCACAO                                              2073\n",
       "TRIBUTACAO                                            2056\n",
       "DIREITO PENAL E PROCESSUAL PENAL                      1788\n",
       "SAUDE                                                 1539\n",
       "VIACAO E TRANSPORTES                                  1359\n",
       "HOMENAGENS E DATAS COMEMORATIVAS                      1219\n",
       "DIREITO CIVIL E PROCESSUAL CIVIL                      1218\n",
       "INDUSTRIA, COMERCIO E DEFESA DO CONSUMIDOR            1183\n",
       "PREVIDENCIA E ASSISTENCIA SOCIAL                      1125\n",
       "DESENVOLVIMENTO URBANO E TRANSITO                     1053\n",
       "ORGANIZACAO POLITICO ADMINISTRATIVA DO ESTADO         1023\n",
       "SEGURANCA PUBLICA                                      960\n",
       "MEIO AMBIENTE E DESENVOLVIMENTO SUSTENTAVEL            798\n",
       "PROCESSO LEGISLATIVO                                   610\n",
       "ECONOMIA, ADMINISTRACAO FINANCEIRA E ORCAMENTARIA      559\n",
       "DIREITO E DEFESA DO CONSUMIDOR                         522\n",
       "RECURSOS HIDRICOS, MINERAIS E POLITICA ENERGETICA      517\n",
       "ORGANIZACAO POLITICA, PARTIDARIA E ELEITORAL           495\n",
       "ARTE E CULTURA                                         465\n",
       "POLITICA FUNDIARIA                                     352\n",
       "DESENVOLVIMENTO REGIONAL                               305\n",
       "RELACOES INTERNACIONAIS                                299\n",
       "DESPORTO E LAZER                                       290\n",
       "FINANCAS PUBLICAS E ORCAMENTO                          270\n",
       "INDUSTRIA, COMERCIO E ABASTECIMENTO                    247\n",
       "AGRICULTURA, PECUARIA E PESCA                          189\n",
       "SISTEMA FINANCEIRO                                     155\n",
       "ORGANIZACAO ADMINISTRATIVA DO ESTADO                   145\n",
       "SAUDE,TRABALHO E EMPREGO                               120\n",
       "DEFESA E SEGURANCA NACIONAL                            113\n",
       "EDUCACAO,SAUDE                                         105\n",
       "ADMINISTRACAO PUBLICA,SEGURANCA PUBLICA                103\n",
       "Name: TEMAS, dtype: int64"
      ]
     },
     "execution_count": 33,
     "metadata": {},
     "output_type": "execute_result"
    }
   ],
   "source": [
    "df_prop['TEMAS'].value_counts()"
   ]
  },
  {
   "cell_type": "code",
   "execution_count": 34,
   "metadata": {},
   "outputs": [],
   "source": [
    "for index, tema in df_prop.iterrows():\n",
    "    tema_chave = 'ORGANIZACAO ADMINISTRATIVA DO ESTADO'\n",
    "    tema_alvo = 'ORGANIZACAO POLITICO ADMINISTRATIVA DO ESTADO'\n",
    "    if tema_chave in tema['TEMAS']:\n",
    "        df_prop.at[df_prop.index[index], 'TEMAS'] = tema_alvo"
   ]
  },
  {
   "cell_type": "code",
   "execution_count": 35,
   "metadata": {},
   "outputs": [
    {
     "data": {
      "text/plain": [
       "36"
      ]
     },
     "execution_count": 35,
     "metadata": {},
     "output_type": "execute_result"
    }
   ],
   "source": [
    "df_prop['TEMAS'].nunique()"
   ]
  },
  {
   "cell_type": "code",
   "execution_count": 36,
   "metadata": {},
   "outputs": [
    {
     "data": {
      "text/plain": [
       "COMUNICACOES                                          8466\n",
       "TRABALHO E EMPREGO                                    2455\n",
       "DIREITOS HUMANOS, MINORIAS E CIDADANIA                2439\n",
       "ADMINISTRACAO PUBLICA                                 2356\n",
       "EDUCACAO                                              2073\n",
       "TRIBUTACAO                                            2056\n",
       "DIREITO PENAL E PROCESSUAL PENAL                      1788\n",
       "SAUDE                                                 1539\n",
       "VIACAO E TRANSPORTES                                  1359\n",
       "HOMENAGENS E DATAS COMEMORATIVAS                      1219\n",
       "DIREITO CIVIL E PROCESSUAL CIVIL                      1218\n",
       "INDUSTRIA, COMERCIO E DEFESA DO CONSUMIDOR            1183\n",
       "PREVIDENCIA E ASSISTENCIA SOCIAL                      1125\n",
       "DESENVOLVIMENTO URBANO E TRANSITO                     1053\n",
       "ORGANIZACAO POLITICO ADMINISTRATIVA DO ESTADO         1023\n",
       "SEGURANCA PUBLICA                                      960\n",
       "MEIO AMBIENTE E DESENVOLVIMENTO SUSTENTAVEL            798\n",
       "PROCESSO LEGISLATIVO                                   610\n",
       "ECONOMIA, ADMINISTRACAO FINANCEIRA E ORCAMENTARIA      559\n",
       "DIREITO E DEFESA DO CONSUMIDOR                         522\n",
       "RECURSOS HIDRICOS, MINERAIS E POLITICA ENERGETICA      517\n",
       "ORGANIZACAO POLITICA, PARTIDARIA E ELEITORAL           495\n",
       "ARTE E CULTURA                                         465\n",
       "POLITICA FUNDIARIA                                     352\n",
       "DESENVOLVIMENTO REGIONAL                               305\n",
       "RELACOES INTERNACIONAIS                                299\n",
       "DESPORTO E LAZER                                       290\n",
       "FINANCAS PUBLICAS E ORCAMENTO                          270\n",
       "INDUSTRIA, COMERCIO E ABASTECIMENTO                    247\n",
       "AGRICULTURA, PECUARIA E PESCA                          189\n",
       "SISTEMA FINANCEIRO                                     155\n",
       "ORGANIZACAO POLITICO ADMINISTRATIVA DO ESTADO          145\n",
       "SAUDE,TRABALHO E EMPREGO                               120\n",
       "DEFESA E SEGURANCA NACIONAL                            113\n",
       "EDUCACAO,SAUDE                                         105\n",
       "ADMINISTRACAO PUBLICA,SEGURANCA PUBLICA                103\n",
       "Name: TEMAS, dtype: int64"
      ]
     },
     "execution_count": 36,
     "metadata": {},
     "output_type": "execute_result"
    }
   ],
   "source": [
    "df_prop['TEMAS'].value_counts()"
   ]
  },
  {
   "cell_type": "code",
   "execution_count": 37,
   "metadata": {},
   "outputs": [
    {
     "data": {
      "text/plain": [
       "array(['INDUSTRIA, COMERCIO E DEFESA DO CONSUMIDOR', 'ARTE E CULTURA',\n",
       "       'TRIBUTACAO', 'SEGURANCA PUBLICA', 'EDUCACAO',\n",
       "       'PROCESSO LEGISLATIVO', 'DIREITO CIVIL E PROCESSUAL CIVIL',\n",
       "       'DIREITOS HUMANOS, MINORIAS E CIDADANIA',\n",
       "       'MEIO AMBIENTE E DESENVOLVIMENTO SUSTENTAVEL',\n",
       "       'ORGANIZACAO POLITICO ADMINISTRATIVA DO ESTADO ',\n",
       "       'DIREITO PENAL E PROCESSUAL PENAL',\n",
       "       'PREVIDENCIA E ASSISTENCIA SOCIAL', 'ADMINISTRACAO PUBLICA',\n",
       "       'VIACAO E TRANSPORTES', 'DESPORTO E LAZER', 'TRABALHO E EMPREGO',\n",
       "       'ECONOMIA, ADMINISTRACAO FINANCEIRA E ORCAMENTARIA ', 'SAUDE',\n",
       "       'DESENVOLVIMENTO REGIONAL', 'COMUNICACOES', 'POLITICA FUNDIARIA',\n",
       "       'RECURSOS HIDRICOS, MINERAIS E POLITICA ENERGETICA',\n",
       "       'SAUDE,TRABALHO E EMPREGO', 'DEFESA E SEGURANCA NACIONAL',\n",
       "       'DESENVOLVIMENTO URBANO E TRANSITO',\n",
       "       'ORGANIZACAO POLITICA, PARTIDARIA E ELEITORAL',\n",
       "       'RELACOES INTERNACIONAIS', 'HOMENAGENS E DATAS COMEMORATIVAS',\n",
       "       'ADMINISTRACAO PUBLICA,SEGURANCA PUBLICA',\n",
       "       'DIREITO E DEFESA DO CONSUMIDOR', 'EDUCACAO,SAUDE',\n",
       "       'INDUSTRIA, COMERCIO E ABASTECIMENTO',\n",
       "       'AGRICULTURA, PECUARIA E PESCA', 'FINANCAS PUBLICAS E ORCAMENTO',\n",
       "       'ORGANIZACAO POLITICO ADMINISTRATIVA DO ESTADO',\n",
       "       'SISTEMA FINANCEIRO'], dtype=object)"
      ]
     },
     "execution_count": 37,
     "metadata": {},
     "output_type": "execute_result"
    }
   ],
   "source": [
    "df_prop['TEMAS'].unique()"
   ]
  },
  {
   "cell_type": "code",
   "execution_count": 38,
   "metadata": {},
   "outputs": [],
   "source": [
    "for index, tema in df_prop.iterrows():\n",
    "    tema_chave = 'ORGANIZACAO POLITICO ADMINISTRATIVA DO ESTADO '\n",
    "    tema_alvo = 'ORGANIZACAO POLITICO ADMINISTRATIVA DO ESTADO'\n",
    "    if tema_chave in tema['TEMAS']:\n",
    "        df_prop.at[df_prop.index[index], 'TEMAS'] = tema_alvo"
   ]
  },
  {
   "cell_type": "code",
   "execution_count": 39,
   "metadata": {},
   "outputs": [
    {
     "data": {
      "text/plain": [
       "35"
      ]
     },
     "execution_count": 39,
     "metadata": {},
     "output_type": "execute_result"
    }
   ],
   "source": [
    "df_prop['TEMAS'].nunique()"
   ]
  },
  {
   "cell_type": "code",
   "execution_count": 40,
   "metadata": {},
   "outputs": [
    {
     "data": {
      "text/plain": [
       "COMUNICACOES                                          8466\n",
       "TRABALHO E EMPREGO                                    2455\n",
       "DIREITOS HUMANOS, MINORIAS E CIDADANIA                2439\n",
       "ADMINISTRACAO PUBLICA                                 2356\n",
       "EDUCACAO                                              2073\n",
       "TRIBUTACAO                                            2056\n",
       "DIREITO PENAL E PROCESSUAL PENAL                      1788\n",
       "SAUDE                                                 1539\n",
       "VIACAO E TRANSPORTES                                  1359\n",
       "HOMENAGENS E DATAS COMEMORATIVAS                      1219\n",
       "DIREITO CIVIL E PROCESSUAL CIVIL                      1218\n",
       "INDUSTRIA, COMERCIO E DEFESA DO CONSUMIDOR            1183\n",
       "ORGANIZACAO POLITICO ADMINISTRATIVA DO ESTADO         1168\n",
       "PREVIDENCIA E ASSISTENCIA SOCIAL                      1125\n",
       "DESENVOLVIMENTO URBANO E TRANSITO                     1053\n",
       "SEGURANCA PUBLICA                                      960\n",
       "MEIO AMBIENTE E DESENVOLVIMENTO SUSTENTAVEL            798\n",
       "PROCESSO LEGISLATIVO                                   610\n",
       "ECONOMIA, ADMINISTRACAO FINANCEIRA E ORCAMENTARIA      559\n",
       "DIREITO E DEFESA DO CONSUMIDOR                         522\n",
       "RECURSOS HIDRICOS, MINERAIS E POLITICA ENERGETICA      517\n",
       "ORGANIZACAO POLITICA, PARTIDARIA E ELEITORAL           495\n",
       "ARTE E CULTURA                                         465\n",
       "POLITICA FUNDIARIA                                     352\n",
       "DESENVOLVIMENTO REGIONAL                               305\n",
       "RELACOES INTERNACIONAIS                                299\n",
       "DESPORTO E LAZER                                       290\n",
       "FINANCAS PUBLICAS E ORCAMENTO                          270\n",
       "INDUSTRIA, COMERCIO E ABASTECIMENTO                    247\n",
       "AGRICULTURA, PECUARIA E PESCA                          189\n",
       "SISTEMA FINANCEIRO                                     155\n",
       "SAUDE,TRABALHO E EMPREGO                               120\n",
       "DEFESA E SEGURANCA NACIONAL                            113\n",
       "EDUCACAO,SAUDE                                         105\n",
       "ADMINISTRACAO PUBLICA,SEGURANCA PUBLICA                103\n",
       "Name: TEMAS, dtype: int64"
      ]
     },
     "execution_count": 40,
     "metadata": {},
     "output_type": "execute_result"
    }
   ],
   "source": [
    "df_prop['TEMAS'].value_counts()"
   ]
  },
  {
   "cell_type": "code",
   "execution_count": 41,
   "metadata": {},
   "outputs": [],
   "source": [
    "for index, tema in df_prop.iterrows():\n",
    "    tema_chave = 'ADMINISTRACAO PUBLICA'\n",
    "    if tema_chave in tema['TEMAS']:\n",
    "        df_prop.at[df_prop.index[index], 'TEMAS'] = tema_chave"
   ]
  },
  {
   "cell_type": "code",
   "execution_count": 42,
   "metadata": {},
   "outputs": [
    {
     "data": {
      "text/plain": [
       "34"
      ]
     },
     "execution_count": 42,
     "metadata": {},
     "output_type": "execute_result"
    }
   ],
   "source": [
    "df_prop['TEMAS'].nunique()"
   ]
  },
  {
   "cell_type": "code",
   "execution_count": 43,
   "metadata": {},
   "outputs": [
    {
     "data": {
      "text/plain": [
       "COMUNICACOES                                          8466\n",
       "ADMINISTRACAO PUBLICA                                 2459\n",
       "TRABALHO E EMPREGO                                    2455\n",
       "DIREITOS HUMANOS, MINORIAS E CIDADANIA                2439\n",
       "EDUCACAO                                              2073\n",
       "TRIBUTACAO                                            2056\n",
       "DIREITO PENAL E PROCESSUAL PENAL                      1788\n",
       "SAUDE                                                 1539\n",
       "VIACAO E TRANSPORTES                                  1359\n",
       "HOMENAGENS E DATAS COMEMORATIVAS                      1219\n",
       "DIREITO CIVIL E PROCESSUAL CIVIL                      1218\n",
       "INDUSTRIA, COMERCIO E DEFESA DO CONSUMIDOR            1183\n",
       "ORGANIZACAO POLITICO ADMINISTRATIVA DO ESTADO         1168\n",
       "PREVIDENCIA E ASSISTENCIA SOCIAL                      1125\n",
       "DESENVOLVIMENTO URBANO E TRANSITO                     1053\n",
       "SEGURANCA PUBLICA                                      960\n",
       "MEIO AMBIENTE E DESENVOLVIMENTO SUSTENTAVEL            798\n",
       "PROCESSO LEGISLATIVO                                   610\n",
       "ECONOMIA, ADMINISTRACAO FINANCEIRA E ORCAMENTARIA      559\n",
       "DIREITO E DEFESA DO CONSUMIDOR                         522\n",
       "RECURSOS HIDRICOS, MINERAIS E POLITICA ENERGETICA      517\n",
       "ORGANIZACAO POLITICA, PARTIDARIA E ELEITORAL           495\n",
       "ARTE E CULTURA                                         465\n",
       "POLITICA FUNDIARIA                                     352\n",
       "DESENVOLVIMENTO REGIONAL                               305\n",
       "RELACOES INTERNACIONAIS                                299\n",
       "DESPORTO E LAZER                                       290\n",
       "FINANCAS PUBLICAS E ORCAMENTO                          270\n",
       "INDUSTRIA, COMERCIO E ABASTECIMENTO                    247\n",
       "AGRICULTURA, PECUARIA E PESCA                          189\n",
       "SISTEMA FINANCEIRO                                     155\n",
       "SAUDE,TRABALHO E EMPREGO                               120\n",
       "DEFESA E SEGURANCA NACIONAL                            113\n",
       "EDUCACAO,SAUDE                                         105\n",
       "Name: TEMAS, dtype: int64"
      ]
     },
     "execution_count": 43,
     "metadata": {},
     "output_type": "execute_result"
    }
   ],
   "source": [
    "df_prop['TEMAS'].value_counts()"
   ]
  },
  {
   "cell_type": "code",
   "execution_count": 44,
   "metadata": {},
   "outputs": [],
   "source": [
    "for index, tema in df_prop.iterrows():\n",
    "    tema_chave = 'EDUCACAO'\n",
    "    if tema_chave in tema['TEMAS']:\n",
    "        df_prop.at[df_prop.index[index], 'TEMAS'] = tema_chave"
   ]
  },
  {
   "cell_type": "code",
   "execution_count": 45,
   "metadata": {},
   "outputs": [],
   "source": [
    "for index, tema in df_prop.iterrows():\n",
    "    tema_chave = 'TRABALHO E EMPREGO'\n",
    "    if tema_chave in tema['TEMAS']:\n",
    "        df_prop.at[df_prop.index[index], 'TEMAS'] = tema_chave"
   ]
  },
  {
   "cell_type": "code",
   "execution_count": 46,
   "metadata": {},
   "outputs": [
    {
     "data": {
      "text/plain": [
       "32"
      ]
     },
     "execution_count": 46,
     "metadata": {},
     "output_type": "execute_result"
    }
   ],
   "source": [
    "df_prop['TEMAS'].nunique()"
   ]
  },
  {
   "cell_type": "code",
   "execution_count": 47,
   "metadata": {},
   "outputs": [
    {
     "data": {
      "text/plain": [
       "COMUNICACOES                                          8466\n",
       "TRABALHO E EMPREGO                                    2575\n",
       "ADMINISTRACAO PUBLICA                                 2459\n",
       "DIREITOS HUMANOS, MINORIAS E CIDADANIA                2439\n",
       "EDUCACAO                                              2178\n",
       "TRIBUTACAO                                            2056\n",
       "DIREITO PENAL E PROCESSUAL PENAL                      1788\n",
       "SAUDE                                                 1539\n",
       "VIACAO E TRANSPORTES                                  1359\n",
       "HOMENAGENS E DATAS COMEMORATIVAS                      1219\n",
       "DIREITO CIVIL E PROCESSUAL CIVIL                      1218\n",
       "INDUSTRIA, COMERCIO E DEFESA DO CONSUMIDOR            1183\n",
       "ORGANIZACAO POLITICO ADMINISTRATIVA DO ESTADO         1168\n",
       "PREVIDENCIA E ASSISTENCIA SOCIAL                      1125\n",
       "DESENVOLVIMENTO URBANO E TRANSITO                     1053\n",
       "SEGURANCA PUBLICA                                      960\n",
       "MEIO AMBIENTE E DESENVOLVIMENTO SUSTENTAVEL            798\n",
       "PROCESSO LEGISLATIVO                                   610\n",
       "ECONOMIA, ADMINISTRACAO FINANCEIRA E ORCAMENTARIA      559\n",
       "DIREITO E DEFESA DO CONSUMIDOR                         522\n",
       "RECURSOS HIDRICOS, MINERAIS E POLITICA ENERGETICA      517\n",
       "ORGANIZACAO POLITICA, PARTIDARIA E ELEITORAL           495\n",
       "ARTE E CULTURA                                         465\n",
       "POLITICA FUNDIARIA                                     352\n",
       "DESENVOLVIMENTO REGIONAL                               305\n",
       "RELACOES INTERNACIONAIS                                299\n",
       "DESPORTO E LAZER                                       290\n",
       "FINANCAS PUBLICAS E ORCAMENTO                          270\n",
       "INDUSTRIA, COMERCIO E ABASTECIMENTO                    247\n",
       "AGRICULTURA, PECUARIA E PESCA                          189\n",
       "SISTEMA FINANCEIRO                                     155\n",
       "DEFESA E SEGURANCA NACIONAL                            113\n",
       "Name: TEMAS, dtype: int64"
      ]
     },
     "execution_count": 47,
     "metadata": {},
     "output_type": "execute_result"
    }
   ],
   "source": [
    "df_prop['TEMAS'].value_counts()"
   ]
  },
  {
   "cell_type": "code",
   "execution_count": 48,
   "metadata": {},
   "outputs": [],
   "source": [
    "df_prop.sort_values(by='TEMAS', ascending=True, inplace=True)"
   ]
  },
  {
   "cell_type": "code",
   "execution_count": 49,
   "metadata": {
    "scrolled": true
   },
   "outputs": [
    {
     "data": {
      "text/html": [
       "<div>\n",
       "<style scoped>\n",
       "    .dataframe tbody tr th:only-of-type {\n",
       "        vertical-align: middle;\n",
       "    }\n",
       "\n",
       "    .dataframe tbody tr th {\n",
       "        vertical-align: top;\n",
       "    }\n",
       "\n",
       "    .dataframe thead th {\n",
       "        text-align: right;\n",
       "    }\n",
       "</style>\n",
       "<table border=\"1\" class=\"dataframe\">\n",
       "  <thead>\n",
       "    <tr style=\"text-align: right;\">\n",
       "      <th></th>\n",
       "      <th>TEMAS</th>\n",
       "      <th>TEXTO</th>\n",
       "    </tr>\n",
       "  </thead>\n",
       "  <tbody>\n",
       "    <tr>\n",
       "      <th>count</th>\n",
       "      <td>38971</td>\n",
       "      <td>38971</td>\n",
       "    </tr>\n",
       "    <tr>\n",
       "      <th>unique</th>\n",
       "      <td>32</td>\n",
       "      <td>37378</td>\n",
       "    </tr>\n",
       "    <tr>\n",
       "      <th>top</th>\n",
       "      <td>COMUNICACOES</td>\n",
       "      <td>Altera a Lei Complementar nº 123, de 14 de dez...</td>\n",
       "    </tr>\n",
       "    <tr>\n",
       "      <th>freq</th>\n",
       "      <td>8466</td>\n",
       "      <td>28</td>\n",
       "    </tr>\n",
       "  </tbody>\n",
       "</table>\n",
       "</div>"
      ],
      "text/plain": [
       "               TEMAS                                              TEXTO\n",
       "count          38971                                              38971\n",
       "unique            32                                              37378\n",
       "top     COMUNICACOES  Altera a Lei Complementar nº 123, de 14 de dez...\n",
       "freq            8466                                                 28"
      ]
     },
     "execution_count": 49,
     "metadata": {},
     "output_type": "execute_result"
    }
   ],
   "source": [
    "df_prop.describe()"
   ]
  },
  {
   "cell_type": "code",
   "execution_count": 50,
   "metadata": {
    "scrolled": true
   },
   "outputs": [
    {
     "data": {
      "text/plain": [
       "<matplotlib.axes._subplots.AxesSubplot at 0x27dde4bdc88>"
      ]
     },
     "execution_count": 50,
     "metadata": {},
     "output_type": "execute_result"
    },
    {
     "data": {
      "image/png": "[encoded data removed]",
      "text/plain": [
       "<matplotlib.figure.Figure at 0x27dde4bdf28>"
      ]
     },
     "metadata": {},
     "output_type": "display_data"
    }
   ],
   "source": [
    "sns.set_context(\"notebook\")\n",
    "sns.set_style('white')\n",
    "plt.figure(figsize=(12,3))\n",
    "countplot = sns.countplot(x=df_prop['TEMAS'], data=df_prop, palette='deep')\n",
    "plt.setp(countplot.get_xticklabels(), rotation=50, ha=\"right\")\n",
    "countplot"
   ]
  },
  {
   "cell_type": "code",
   "execution_count": 51,
   "metadata": {},
   "outputs": [
    {
     "data": {
      "text/plain": [
       "<matplotlib.axes._subplots.AxesSubplot at 0x27ddcf08828>"
      ]
     },
     "execution_count": 51,
     "metadata": {},
     "output_type": "execute_result"
    },
    {
     "data": {
      "image/png": "[encoded data removed]",
      "text/plain": [
       "<matplotlib.figure.Figure at 0x27ddc3c9b70>"
      ]
     },
     "metadata": {},
     "output_type": "display_data"
    }
   ],
   "source": [
    "sns.distplot(df_prop['TEMAS'].value_counts())"
   ]
  },
  {
   "cell_type": "code",
   "execution_count": 52,
   "metadata": {},
   "outputs": [
    {
     "ename": "ValueError",
     "evalue": "Could not interpret input 'ANO'",
     "output_type": "error",
     "traceback": [
      "\u001b[1;31m---------------------------------------------------------------------------\u001b[0m",
      "\u001b[1;31mValueError\u001b[0m                                Traceback (most recent call last)",
      "\u001b[1;32m<ipython-input-52-2b2100f0aef7>\u001b[0m in \u001b[0;36m<module>\u001b[1;34m()\u001b[0m\n\u001b[1;32m----> 1\u001b[1;33m \u001b[0msns\u001b[0m\u001b[1;33m.\u001b[0m\u001b[0mboxplot\u001b[0m\u001b[1;33m(\u001b[0m\u001b[0mx\u001b[0m\u001b[1;33m=\u001b[0m\u001b[1;34m\"ANO\"\u001b[0m\u001b[1;33m,\u001b[0m \u001b[0my\u001b[0m\u001b[1;33m=\u001b[0m\u001b[0mdf_prop\u001b[0m\u001b[1;33m[\u001b[0m\u001b[1;34m\"TEMAS\"\u001b[0m\u001b[1;33m]\u001b[0m\u001b[1;33m,\u001b[0m \u001b[0mdata\u001b[0m\u001b[1;33m=\u001b[0m\u001b[0mdf_prop\u001b[0m\u001b[1;33m,\u001b[0m\u001b[0mpalette\u001b[0m\u001b[1;33m=\u001b[0m\u001b[1;34m'rainbow'\u001b[0m\u001b[1;33m)\u001b[0m\u001b[1;33m\u001b[0m\u001b[0m\n\u001b[0m",
      "\u001b[1;32m~\\Anaconda3\\lib\\site-packages\\seaborn\\categorical.py\u001b[0m in \u001b[0;36mboxplot\u001b[1;34m(x, y, hue, data, order, hue_order, orient, color, palette, saturation, width, dodge, fliersize, linewidth, whis, notch, ax, **kwargs)\u001b[0m\n\u001b[0;32m   2209\u001b[0m     plotter = _BoxPlotter(x, y, hue, data, order, hue_order,\n\u001b[0;32m   2210\u001b[0m                           \u001b[0morient\u001b[0m\u001b[1;33m,\u001b[0m \u001b[0mcolor\u001b[0m\u001b[1;33m,\u001b[0m \u001b[0mpalette\u001b[0m\u001b[1;33m,\u001b[0m \u001b[0msaturation\u001b[0m\u001b[1;33m,\u001b[0m\u001b[1;33m\u001b[0m\u001b[0m\n\u001b[1;32m-> 2211\u001b[1;33m                           width, dodge, fliersize, linewidth)\n\u001b[0m\u001b[0;32m   2212\u001b[0m \u001b[1;33m\u001b[0m\u001b[0m\n\u001b[0;32m   2213\u001b[0m     \u001b[1;32mif\u001b[0m \u001b[0max\u001b[0m \u001b[1;32mis\u001b[0m \u001b[1;32mNone\u001b[0m\u001b[1;33m:\u001b[0m\u001b[1;33m\u001b[0m\u001b[0m\n",
      "\u001b[1;32m~\\Anaconda3\\lib\\site-packages\\seaborn\\categorical.py\u001b[0m in \u001b[0;36m__init__\u001b[1;34m(self, x, y, hue, data, order, hue_order, orient, color, palette, saturation, width, dodge, fliersize, linewidth)\u001b[0m\n\u001b[0;32m    439\u001b[0m                  width, dodge, fliersize, linewidth):\n\u001b[0;32m    440\u001b[0m \u001b[1;33m\u001b[0m\u001b[0m\n\u001b[1;32m--> 441\u001b[1;33m         \u001b[0mself\u001b[0m\u001b[1;33m.\u001b[0m\u001b[0mestablish_variables\u001b[0m\u001b[1;33m(\u001b[0m\u001b[0mx\u001b[0m\u001b[1;33m,\u001b[0m \u001b[0my\u001b[0m\u001b[1;33m,\u001b[0m \u001b[0mhue\u001b[0m\u001b[1;33m,\u001b[0m \u001b[0mdata\u001b[0m\u001b[1;33m,\u001b[0m \u001b[0morient\u001b[0m\u001b[1;33m,\u001b[0m \u001b[0morder\u001b[0m\u001b[1;33m,\u001b[0m \u001b[0mhue_order\u001b[0m\u001b[1;33m)\u001b[0m\u001b[1;33m\u001b[0m\u001b[0m\n\u001b[0m\u001b[0;32m    442\u001b[0m         \u001b[0mself\u001b[0m\u001b[1;33m.\u001b[0m\u001b[0mestablish_colors\u001b[0m\u001b[1;33m(\u001b[0m\u001b[0mcolor\u001b[0m\u001b[1;33m,\u001b[0m \u001b[0mpalette\u001b[0m\u001b[1;33m,\u001b[0m \u001b[0msaturation\u001b[0m\u001b[1;33m)\u001b[0m\u001b[1;33m\u001b[0m\u001b[0m\n\u001b[0;32m    443\u001b[0m \u001b[1;33m\u001b[0m\u001b[0m\n",
      "\u001b[1;32m~\\Anaconda3\\lib\\site-packages\\seaborn\\categorical.py\u001b[0m in \u001b[0;36mestablish_variables\u001b[1;34m(self, x, y, hue, data, orient, order, hue_order, units)\u001b[0m\n\u001b[0;32m    149\u001b[0m                 \u001b[1;32mif\u001b[0m \u001b[0misinstance\u001b[0m\u001b[1;33m(\u001b[0m\u001b[0minput\u001b[0m\u001b[1;33m,\u001b[0m \u001b[0mstring_types\u001b[0m\u001b[1;33m)\u001b[0m\u001b[1;33m:\u001b[0m\u001b[1;33m\u001b[0m\u001b[0m\n\u001b[0;32m    150\u001b[0m                     \u001b[0merr\u001b[0m \u001b[1;33m=\u001b[0m \u001b[1;34m\"Could not interpret input '{}'\"\u001b[0m\u001b[1;33m.\u001b[0m\u001b[0mformat\u001b[0m\u001b[1;33m(\u001b[0m\u001b[0minput\u001b[0m\u001b[1;33m)\u001b[0m\u001b[1;33m\u001b[0m\u001b[0m\n\u001b[1;32m--> 151\u001b[1;33m                     \u001b[1;32mraise\u001b[0m \u001b[0mValueError\u001b[0m\u001b[1;33m(\u001b[0m\u001b[0merr\u001b[0m\u001b[1;33m)\u001b[0m\u001b[1;33m\u001b[0m\u001b[0m\n\u001b[0m\u001b[0;32m    152\u001b[0m \u001b[1;33m\u001b[0m\u001b[0m\n\u001b[0;32m    153\u001b[0m             \u001b[1;31m# Figure out the plotting orientation\u001b[0m\u001b[1;33m\u001b[0m\u001b[1;33m\u001b[0m\u001b[0m\n",
      "\u001b[1;31mValueError\u001b[0m: Could not interpret input 'ANO'"
     ]
    }
   ],
   "source": [
    "sns.boxplot(x=\"ANO\", y=df_prop[\"TEMAS\"], data=df_prop,palette='rainbow')"
   ]
  },
  {
   "cell_type": "code",
   "execution_count": null,
   "metadata": {},
   "outputs": [],
   "source": []
  }
 ],
 "metadata": {
  "kernelspec": {
   "display_name": "Python 3",
   "language": "python",
   "name": "python3"
  },
  "language_info": {
   "codemirror_mode": {
    "name": "ipython",
    "version": 3
   },
   "file_extension": ".py",
   "mimetype": "text/x-python",
   "name": "python",
   "nbconvert_exporter": "python",
   "pygments_lexer": "ipython3",
   "version": "3.6.4"
  }
 },
 "nbformat": 4,
 "nbformat_minor": 2
}
